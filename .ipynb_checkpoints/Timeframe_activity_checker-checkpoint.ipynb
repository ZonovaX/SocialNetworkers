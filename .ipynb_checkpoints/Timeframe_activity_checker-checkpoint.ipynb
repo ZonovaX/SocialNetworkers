{
 "cells": [
  {
   "cell_type": "markdown",
   "metadata": {},
   "source": [
    "This  takes input of a given user, date, and radius (default 6 months), and returns relevant information of all activity by that user which occured within that radius of that date."
   ]
  },
  {
   "cell_type": "code",
   "execution_count": 27,
   "metadata": {},
   "outputs": [],
   "source": [
    "import numpy as np\n",
    "import pandas as pd\n",
    "import matplotlib.pyplot as plt\n",
    "import tweepy\n",
    "import datetime\n",
    "from datetime import datetime as dt\n",
    "import json\n",
    "\n",
    "#API key\n",
    "ck = ''\n",
    "#API secret key\n",
    "cs = ''\n",
    "#Access token\n",
    "at = ''\n",
    "#Access Token Secret\n",
    "ats = ''\n",
    "\n",
    "# create OAuthHandler object\n",
    "authenticator = tweepy.OAuthHandler(ck, cs)\n",
    "# set access token and secret\n",
    "authenticator.set_access_token(at, ats)\n",
    "# create tweepy API object to fetch tweets\n",
    "API = tweepy.API(authenticator, wait_on_rate_limit=True, wait_on_rate_limit_notify=True)"
   ]
  },
  {
   "cell_type": "code",
   "execution_count": 28,
   "metadata": {},
   "outputs": [],
   "source": [
    "def get_frequency(user, date, radius=datetime.timedelta(days=180)):\n",
    "    # Make sure we're finding the right user\n",
    "    if type(user)==str:\n",
    "        user = API.get_user(screen_name=user).id\n",
    "    \n",
    "    datet = datetime.datetime(int(date[0:4]),int(date[5:7]),int(date[8:10]),int(date[11:13]),int(date[14:16]),int(date[17:19]))\n",
    "    \n",
    "    old_cursor = 0\n",
    "    cursor = -1\n",
    "    \n",
    "    #find the later endpoint\n",
    "    tweet_date = dt.now()\n",
    "    while tweet_date > datet+radius and cursor!=old_cursor:\n",
    "        cursed_activity = API.user_timeline(user_id=user, count=200, cursor=cursor)\n",
    "        for tweet in cursed_activity:\n",
    "            tweet_date = datetime.datetime(tweet.created_at)\n",
    "            old_cursor = cursor\n",
    "            cursor = tweet.id\n",
    "            if tweet_date <= datet+radius:\n",
    "                break\n",
    "        \n",
    "    tweets = []\n",
    "\n",
    "    while tweet_date >= datet-radius and cursor!=old_cursor:\n",
    "        cursed_activity = API.user_timeline(user_id=user, count=200, cursor=cursor)\n",
    "        for tweet in cursed_activity:\n",
    "            tweet_date = datetime.datetime(tweet.created_at)\n",
    "            old_cursor = cursor\n",
    "            cursor = tweet.id\n",
    "            if tweet_date >= datet-radius:\n",
    "                tweets.append(tweet)\n",
    "            else: break\n",
    "        \n",
    "    \n",
    "    # Make a list of the statuses\n",
    "    activiray = []\n",
    "    #and add the relevant data\n",
    "    for tweet in tweets:\n",
    "        try: \n",
    "            tweet.retweeted_status\n",
    "            is_retweet = True\n",
    "        except: \n",
    "            is_retweet = False\n",
    "        activiray.append([tweet.text,\n",
    "                         tweet.id,\n",
    "                         is_retweet,\n",
    "                         tweet.is_quote_status,\n",
    "                         type(tweet.in_reply_to_status_id)==int,\n",
    "                         tweet.retweet_count,\n",
    "                         tweet.favorite_count,\n",
    "                         tweet.created_at])\n",
    "        \n",
    "    # turn it into a dataframe\n",
    "    return pd.DataFrame(activiray, columns=['Text', 'Id', 'Is_retweet', 'Is_quote', 'Is_reply', 'Retweets', 'Favorites', 'Created'])"
   ]
  },
  {
   "cell_type": "code",
   "execution_count": 29,
   "metadata": {},
   "outputs": [
    {
     "ename": "TypeError",
     "evalue": "an integer is required (got type datetime.datetime)",
     "output_type": "error",
     "traceback": [
      "\u001b[1;31m---------------------------------------------------------------------------\u001b[0m",
      "\u001b[1;31mTypeError\u001b[0m                                 Traceback (most recent call last)",
      "\u001b[1;32m<ipython-input-29-c038d8ff3e26>\u001b[0m in \u001b[0;36m<module>\u001b[1;34m\u001b[0m\n\u001b[1;32m----> 1\u001b[1;33m \u001b[0mget_frequency\u001b[0m\u001b[1;33m(\u001b[0m\u001b[1;34m'TomiLahren'\u001b[0m\u001b[1;33m,\u001b[0m \u001b[1;34m\"2018-07-28T19:21:34.000Z\"\u001b[0m\u001b[1;33m)\u001b[0m\u001b[1;33m\u001b[0m\u001b[1;33m\u001b[0m\u001b[0m\n\u001b[0m",
      "\u001b[1;32m<ipython-input-28-fb3b7ba5dd39>\u001b[0m in \u001b[0;36mget_frequency\u001b[1;34m(user, date, radius)\u001b[0m\n\u001b[0;32m     14\u001b[0m         \u001b[0mcursed_activity\u001b[0m \u001b[1;33m=\u001b[0m \u001b[0mAPI\u001b[0m\u001b[1;33m.\u001b[0m\u001b[0muser_timeline\u001b[0m\u001b[1;33m(\u001b[0m\u001b[0muser_id\u001b[0m\u001b[1;33m=\u001b[0m\u001b[0muser\u001b[0m\u001b[1;33m,\u001b[0m \u001b[0mcount\u001b[0m\u001b[1;33m=\u001b[0m\u001b[1;36m200\u001b[0m\u001b[1;33m,\u001b[0m \u001b[0mcursor\u001b[0m\u001b[1;33m=\u001b[0m\u001b[0mcursor\u001b[0m\u001b[1;33m)\u001b[0m\u001b[1;33m\u001b[0m\u001b[1;33m\u001b[0m\u001b[0m\n\u001b[0;32m     15\u001b[0m         \u001b[1;32mfor\u001b[0m \u001b[0mtweet\u001b[0m \u001b[1;32min\u001b[0m \u001b[0mcursed_activity\u001b[0m\u001b[1;33m:\u001b[0m\u001b[1;33m\u001b[0m\u001b[1;33m\u001b[0m\u001b[0m\n\u001b[1;32m---> 16\u001b[1;33m             \u001b[0mtweet_date\u001b[0m \u001b[1;33m=\u001b[0m \u001b[0mdatetime\u001b[0m\u001b[1;33m.\u001b[0m\u001b[0mdatetime\u001b[0m\u001b[1;33m(\u001b[0m\u001b[0mtweet\u001b[0m\u001b[1;33m.\u001b[0m\u001b[0mcreated_at\u001b[0m\u001b[1;33m)\u001b[0m\u001b[1;33m\u001b[0m\u001b[1;33m\u001b[0m\u001b[0m\n\u001b[0m\u001b[0;32m     17\u001b[0m             \u001b[0mold_cursor\u001b[0m \u001b[1;33m=\u001b[0m \u001b[0mcursor\u001b[0m\u001b[1;33m\u001b[0m\u001b[1;33m\u001b[0m\u001b[0m\n\u001b[0;32m     18\u001b[0m             \u001b[0mcursor\u001b[0m \u001b[1;33m=\u001b[0m \u001b[0mtweet\u001b[0m\u001b[1;33m.\u001b[0m\u001b[0mid\u001b[0m\u001b[1;33m\u001b[0m\u001b[1;33m\u001b[0m\u001b[0m\n",
      "\u001b[1;31mTypeError\u001b[0m: an integer is required (got type datetime.datetime)"
     ]
    }
   ],
   "source": [
    "get_frequency('TomiLahren', \"2018-07-28T19:21:34.000Z\")"
   ]
  },
  {
   "cell_type": "code",
   "execution_count": 15,
   "metadata": {},
   "outputs": [
    {
     "data": {
      "text/plain": [
       "'34'"
      ]
     },
     "execution_count": 15,
     "metadata": {},
     "output_type": "execute_result"
    }
   ],
   "source": [
    "\"2018-07-28T19:21:34.000Z\"[17:19]"
   ]
  }
 ],
 "metadata": {
  "kernelspec": {
   "display_name": "Python 3",
   "language": "python",
   "name": "python3"
  },
  "language_info": {
   "codemirror_mode": {
    "name": "ipython",
    "version": 3
   },
   "file_extension": ".py",
   "mimetype": "text/x-python",
   "name": "python",
   "nbconvert_exporter": "python",
   "pygments_lexer": "ipython3",
   "version": "3.7.6"
  }
 },
 "nbformat": 4,
 "nbformat_minor": 5
}
