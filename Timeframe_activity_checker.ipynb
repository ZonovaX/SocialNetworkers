{
 "cells": [
  {
   "cell_type": "markdown",
   "id": "849bd48b",
   "metadata": {},
   "source": [
    "This  takes input of a given user, date, and radius (default 6 months), and returns relevant information of all activity by that user which occured within that radius of that date."
   ]
  },
  {
   "cell_type": "code",
   "execution_count": 3,
   "id": "916dbb76",
   "metadata": {},
   "outputs": [],
   "source": [
    "import numpy as np\n",
    "import pandas as pd\n",
    "import matplotlib.pyplot as plt\n",
    "import tweepy\n",
    "import datetime\n",
    "import json\n",
    "\n",
    "#API key\n",
    "ck = ''\n",
    "#API secret key\n",
    "cs = ''\n",
    "#Access token\n",
    "at = ''\n",
    "#Access Token Secret\n",
    "ats = ''\n",
    "\n",
    "# create OAuthHandler object\n",
    "authenticator = tweepy.OAuthHandler(ck, cs)\n",
    "# set access token and secret\n",
    "authenticator.set_access_token(at, ats)\n",
    "# create tweepy API object to fetch tweets\n",
    "API = tweepy.API(authenticator, wait_on_rate_limit=True, wait_on_rate_limit_notify=True)"
   ]
  },
  {
   "cell_type": "code",
   "execution_count": null,
   "id": "279e545e",
   "metadata": {},
   "outputs": [],
   "source": [
    "def get_frequency(user, date, radius=datetime.timedelta(months=6)):\n",
    "    # Make sure we're finding the right user\n",
    "    if type(user)==str:\n",
    "        user = API.get_user(screen_name=user).id\n",
    "    \n",
    "    datet = datetime.datetime(date)\n",
    "    \n",
    "    old_cursor = 0\n",
    "    cursor = -1\n",
    "    \n",
    "    #find the later endpoint\n",
    "    while tweet_date > datet+radius and cursor!=old_cursor:\n",
    "        cursed_activity = API.user_timeline(user_id=user, count=200, cursor=cursor)\n",
    "        for tweet in cursed_activity:\n",
    "            tweet_date = datetime.datetime(tweet.created_at)\n",
    "            old_cursor = cursor\n",
    "            cursor = tweet.id\n",
    "            if tweet_date <= datet+radius:\n",
    "                break\n",
    "        \n",
    "    tweets = []\n",
    "\n",
    "    while tweet_date >= datet-radius and cursor!=old_cursor:\n",
    "        cursed_activity = API.user_timeline(user_id=user, count=200, cursor=cursor)\n",
    "        for tweet in cursed_activity:\n",
    "            tweet_date = datetime.datetime(tweet.created_at)\n",
    "            old_cursor = cursor\n",
    "            cursor = tweet.id\n",
    "            if tweet_date >= datet-radius:\n",
    "                tweets.append(tweet)\n",
    "            else: break\n",
    "        \n",
    "    \n",
    "    # Make a list of the statuses\n",
    "    activiray = []\n",
    "    #and add the relevant data\n",
    "    for tweet in tweets:\n",
    "        try: \n",
    "            tweet.retweeted_status\n",
    "            is_retweet = True\n",
    "        except: \n",
    "            is_retweet = False\n",
    "        activiray.append([tweet.text,\n",
    "                         tweet.id,\n",
    "                         is_retweet,\n",
    "                         tweet.is_quote_status,\n",
    "                         type(tweet.in_reply_to_status_id)==int,\n",
    "                         tweet.retweet_count,\n",
    "                         tweet.favorite_count,\n",
    "                         tweet.created_at])\n",
    "        \n",
    "    # turn it into a dataframe\n",
    "    return pd.DataFrame(activiray, columns=['Text', 'Id', 'Is_retweet', 'Is_quote', 'Is_reply', 'Retweets', 'Favorites', 'Created'])"
   ]
  },
  {
   "cell_type": "code",
   "execution_count": null,
   "id": "4bb0245d",
   "metadata": {},
   "outputs": [],
   "source": []
  }
 ],
 "metadata": {
  "kernelspec": {
   "display_name": "Python 3",
   "language": "python",
   "name": "python3"
  },
  "language_info": {
   "codemirror_mode": {
    "name": "ipython",
    "version": 3
   },
   "file_extension": ".py",
   "mimetype": "text/x-python",
   "name": "python",
   "nbconvert_exporter": "python",
   "pygments_lexer": "ipython3",
   "version": "3.7.7"
  }
 },
 "nbformat": 4,
 "nbformat_minor": 5
}
